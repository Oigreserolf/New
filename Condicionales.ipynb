{
 "cells": [
  {
   "cell_type": "code",
   "execution_count": null,
   "id": "timely-convention",
   "metadata": {},
   "outputs": [],
   "source": [
    "a = int(input ('Ingrese un nùmero entero'))\n",
    "b = int(input ('Ingrese un nùmero entero'))\n",
    "\n",
    "if a < b:\n",
    "    print (a ,'es menor que' b)\n",
    "elif a == b:\n",
    "    print (a, 'es igual a')\n",
    "else \n",
    "    "
   ]
  }
 ],
 "metadata": {
  "kernelspec": {
   "display_name": "Python 3",
   "language": "python",
   "name": "python3"
  },
  "language_info": {
   "codemirror_mode": {
    "name": "ipython",
    "version": 3
   },
   "file_extension": ".py",
   "mimetype": "text/x-python",
   "name": "python",
   "nbconvert_exporter": "python",
   "pygments_lexer": "ipython3",
   "version": "3.8.5"
  }
 },
 "nbformat": 4,
 "nbformat_minor": 5
}
