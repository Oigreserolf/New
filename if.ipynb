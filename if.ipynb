{
 "cells": [
  {
   "cell_type": "code",
   "execution_count": 4,
   "id": "magnetic-stanford",
   "metadata": {},
   "outputs": [
    {
     "name": "stdout",
     "output_type": "stream",
     "text": [
      "Ingrese un nùmero entero menor que 100: 101\n",
      "Aprende a leer intrucciones por favor\n"
     ]
    }
   ],
   "source": [
    "#Codigo ejemplo para subir a repositorio de github y creado en Jupyter\n",
    "a = int(input(\"Ingrese un nùmero entero menor que 100: \"))\n",
    "if a<100:\n",
    "    print('Excelente', a , 'es menor que 100')\n",
    "elif a == 100:\n",
    "    print('En realidad ', a , 'es igual a 100')\n",
    "else:\n",
    "    print('Aprende a leer intrucciones por favor')"
   ]
  }
 ],
 "metadata": {
  "kernelspec": {
   "display_name": "Python 3",
   "language": "python",
   "name": "python3"
  },
  "language_info": {
   "codemirror_mode": {
    "name": "ipython",
    "version": 3
   },
   "file_extension": ".py",
   "mimetype": "text/x-python",
   "name": "python",
   "nbconvert_exporter": "python",
   "pygments_lexer": "ipython3",
   "version": "3.8.5"
  }
 },
 "nbformat": 4,
 "nbformat_minor": 5
}
